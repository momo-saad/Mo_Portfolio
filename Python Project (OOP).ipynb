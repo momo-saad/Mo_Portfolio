{
 "cells": [
  {
   "cell_type": "code",
   "execution_count": 2,
   "id": "06972349",
   "metadata": {},
   "outputs": [
    {
     "name": "stdout",
     "output_type": "stream",
     "text": [
      "CAR =  Brand:BMW,Model:M3, Doors:2\n",
      "BIKE =  Brand:Trinx,Model:M126 Pro,Bike_Type:Sport\n",
      "Truck =  Brand:VOLVO,Model:lolo,Max_Load:5000 KG\n"
     ]
    }
   ],
   "source": [
    "class Vehicle :\n",
    "    def __init__ (self,brand,model):\n",
    "        self.brand=brand\n",
    "        self.model=model\n",
    "    \n",
    "    def get_info(self):\n",
    "        return f\"Brand:{self.brand},Model:{self.model}\"\n",
    "    \n",
    "class Car(Vehicle):\n",
    "    def __init__ (self,brand,model,doors):\n",
    "        super().__init__(brand,model)\n",
    "        self.doors=doors\n",
    "        \n",
    "    def get_info(self):\n",
    "        return f\"{super().get_info()}, Doors:{self.doors}\"\n",
    "\n",
    "class Bike(Vehicle):\n",
    "    def __init__ (self,brand,model,bike_type):\n",
    "        super().__init__(brand,model)\n",
    "        self.bike_type=bike_type\n",
    "        \n",
    "    def get_info(self):\n",
    "        return f\"{super().get_info()},Bike_Type:{self.bike_type}\"\n",
    "    \n",
    "class Truck(Vehicle):\n",
    "    def __init__ (self,brand,model,max_load):\n",
    "        super().__init__(brand,model)\n",
    "        self.max_load = max_load\n",
    "        \n",
    "    def get_info(self):\n",
    "        return f\"{super().get_info()},Max_Load:{self.max_load}\"\n",
    "        \n",
    "Car = Car(\"BMW\",\"M3\",2)\n",
    "Bike = Bike(\"Trinx\",\"M126 Pro\",\"Sport\")\n",
    "Truck = Truck(\"VOLVO\",\"lolo\",\"5000 KG\")\n",
    "\n",
    "print(\"CAR = \",Car.get_info())\n",
    "print(\"BIKE = \",Bike.get_info())\n",
    "print(\"Truck = \",Truck.get_info())"
   ]
  }
 ],
 "metadata": {
  "kernelspec": {
   "display_name": "Python 3 (ipykernel)",
   "language": "python",
   "name": "python3"
  },
  "language_info": {
   "codemirror_mode": {
    "name": "ipython",
    "version": 3
   },
   "file_extension": ".py",
   "mimetype": "text/x-python",
   "name": "python",
   "nbconvert_exporter": "python",
   "pygments_lexer": "ipython3",
   "version": "3.9.13"
  }
 },
 "nbformat": 4,
 "nbformat_minor": 5
}
