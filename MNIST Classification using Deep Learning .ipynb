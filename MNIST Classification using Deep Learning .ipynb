{
 "cells": [
  {
   "cell_type": "code",
   "execution_count": 4,
   "id": "82264121",
   "metadata": {},
   "outputs": [
    {
     "name": "stdout",
     "output_type": "stream",
     "text": [
      "Epoch 1/5\n",
      "\u001b[1m1875/1875\u001b[0m \u001b[32m━━━━━━━━━━━━━━━━━━━━\u001b[0m\u001b[37m\u001b[0m \u001b[1m6s\u001b[0m 3ms/step - accuracy: 0.8845 - loss: 0.4065 - val_accuracy: 0.9617 - val_loss: 0.1230\n",
      "Epoch 2/5\n",
      "\u001b[1m1875/1875\u001b[0m \u001b[32m━━━━━━━━━━━━━━━━━━━━\u001b[0m\u001b[37m\u001b[0m \u001b[1m5s\u001b[0m 3ms/step - accuracy: 0.9677 - loss: 0.1036 - val_accuracy: 0.9707 - val_loss: 0.0929\n",
      "Epoch 3/5\n",
      "\u001b[1m1875/1875\u001b[0m \u001b[32m━━━━━━━━━━━━━━━━━━━━\u001b[0m\u001b[37m\u001b[0m \u001b[1m5s\u001b[0m 3ms/step - accuracy: 0.9798 - loss: 0.0693 - val_accuracy: 0.9713 - val_loss: 0.0931\n",
      "Epoch 4/5\n",
      "\u001b[1m1875/1875\u001b[0m \u001b[32m━━━━━━━━━━━━━━━━━━━━\u001b[0m\u001b[37m\u001b[0m \u001b[1m5s\u001b[0m 3ms/step - accuracy: 0.9840 - loss: 0.0521 - val_accuracy: 0.9738 - val_loss: 0.0832\n",
      "Epoch 5/5\n",
      "\u001b[1m1875/1875\u001b[0m \u001b[32m━━━━━━━━━━━━━━━━━━━━\u001b[0m\u001b[37m\u001b[0m \u001b[1m5s\u001b[0m 3ms/step - accuracy: 0.9870 - loss: 0.0389 - val_accuracy: 0.9779 - val_loss: 0.0748\n",
      "\u001b[1m313/313\u001b[0m \u001b[32m━━━━━━━━━━━━━━━━━━━━\u001b[0m\u001b[37m\u001b[0m \u001b[1m1s\u001b[0m 2ms/step - accuracy: 0.9743 - loss: 0.0896\n",
      "Test accuracy: 0.9779000282287598\n"
     ]
    }
   ],
   "source": [
    "import tensorflow as tf\n",
    "from tensorflow.keras import datasets, layers, models\n",
    "import matplotlib.pyplot as plt\n",
    "\n",
    "# تحميل بيانات MNIST\n",
    "(X_train, y_train), (X_test, y_test) = datasets.mnist.load_data()\n",
    "\n",
    "# تحويل القيم لتتناسب مع الشبكات العصبية\n",
    "X_train, X_test = X_train / 255.0, X_test / 255.0\n",
    "\n",
    "# إنشاء النموذج\n",
    "model = models.Sequential([\n",
    "    layers.Input(shape=(28, 28)),       # تغيير الطريقة الصحيحة لتعريف شكل المدخلات\n",
    "    layers.Flatten(),                   # تحويل الصورة إلى مصفوفة 1D\n",
    "    layers.Dense(128, activation='relu'),  # الطبقة المخفية الأولى\n",
    "    layers.Dense(64, activation='relu'),   # الطبقة المخفية الثانية\n",
    "    layers.Dense(10, activation='softmax') # طبقة الإخراج (10 فئات)\n",
    "])\n",
    "\n",
    "# تجميع النموذج\n",
    "model.compile(optimizer='adam',\n",
    "              loss='sparse_categorical_crossentropy',\n",
    "              metrics=['accuracy'])\n",
    "\n",
    "# تدريب النموذج\n",
    "history = model.fit(X_train, y_train, epochs=5, validation_data=(X_test, y_test))\n",
    "\n",
    "test_loss, test_acc = model.evaluate(X_test, y_test)\n",
    "print(f\"Test accuracy: {test_acc}\")\n"
   ]
  }
 ],
 "metadata": {
  "kernelspec": {
   "display_name": "Python 3 (ipykernel)",
   "language": "python",
   "name": "python3"
  },
  "language_info": {
   "codemirror_mode": {
    "name": "ipython",
    "version": 3
   },
   "file_extension": ".py",
   "mimetype": "text/x-python",
   "name": "python",
   "nbconvert_exporter": "python",
   "pygments_lexer": "ipython3",
   "version": "3.9.13"
  }
 },
 "nbformat": 4,
 "nbformat_minor": 5
}
